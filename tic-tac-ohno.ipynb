{
  "nbformat": 4,
  "nbformat_minor": 0,
  "metadata": {
    "colab": {
      "provenance": [],
      "private_outputs": true
    },
    "kernelspec": {
      "name": "python3",
      "display_name": "Python 3"
    },
    "language_info": {
      "name": "python"
    },
    "gpuClass": "standard"
  },
  "cells": [
    {
      "cell_type": "markdown",
      "source": [
        "# Tic, Tac, Oh No 😱\n",
        "\n",
        "Tic, Tac, and Oh No are games played by two people. In this exercise we will represent the rules of these games in code.\n",
        "\n",
        "Each game has two players, player `⍺` and player `Ω`.\n",
        "\n",
        "Please begin by running the code below:"
      ],
      "metadata": {
        "id": "1ZggTL_Ky1U0"
      }
    },
    {
      "cell_type": "code",
      "source": [
        "!git clone https://github.com/jumblesale/tic-tac-ohno.git\n",
        "!pip install ipytest\n",
        "\n",
        "import sys\n",
        "if (git_path := 'tic-tac-ohno/tic_tac_ohno') not in sys.path:\n",
        "  sys.path.append(git_path)\n",
        "\n",
        "import ipytest\n",
        "ipytest.autoconfig()\n",
        "def run_tests():\n",
        "  ipytest.run('-qq')\n",
        "\n",
        "from game import welcome, SCREEN_CLEARER as cls\n",
        "\n",
        "cls()\n",
        "welcome()"
      ],
      "metadata": {
        "id": "g-JfskA9LG68"
      },
      "execution_count": null,
      "outputs": []
    },
    {
      "cell_type": "markdown",
      "source": [
        "# Tic\n",
        "\n",
        "Tic is a game played on a grid with equal horizontal and vertical dimensions.\n",
        "\n",
        "The following examples use a grid with a dimension of 3.\n",
        "\n",
        "The grid starts with all spaces filled with the `*` character. Rows are separated by the newline character, `\\n`.\n",
        "\n",
        "```\n",
        "***\n",
        "***\n",
        "***\n",
        "```"
      ],
      "metadata": {
        "id": "csv8DMVl6nmX"
      }
    },
    {
      "cell_type": "markdown",
      "source": [
        "## Our code\n",
        "\n",
        "We'll be writing tests for our code. To run any tests, we'll be using the following:"
      ],
      "metadata": {
        "id": "WzwztFmtGZTo"
      }
    },
    {
      "cell_type": "code",
      "source": [
        "def test_fix_me_before_continuing():\n",
        "  # This test should fail - feel free to delete it or use it as your first test\n",
        "  assert True == False"
      ],
      "metadata": {
        "id": "SJ-bCCQ0FPfz"
      },
      "execution_count": null,
      "outputs": []
    },
    {
      "cell_type": "markdown",
      "source": [
        "We can run our tests with the following:"
      ],
      "metadata": {
        "id": "9iLh135uGkkL"
      }
    },
    {
      "cell_type": "code",
      "source": [
        "run_tests()"
      ],
      "metadata": {
        "id": "3L1nB46zFZa5"
      },
      "execution_count": null,
      "outputs": []
    },
    {
      "cell_type": "markdown",
      "source": [
        "## 🚨 🚨 🚨 Important note 🚨 🚨 🚨\n",
        "\n",
        "We'll be writing tests before we begin to implement any of the features. Remember to follow the red, green, refactor cycle."
      ],
      "metadata": {
        "id": "OvT0okriHLW-"
      }
    },
    {
      "cell_type": "markdown",
      "source": [
        "## Exercise 1.1\n",
        "\n",
        "Write a method which generates a blank grid.\n",
        "\n",
        "The method should have the follow signature:\n",
        "\n",
        "```\n",
        "def <your_method>(dimension: int) -> str\n",
        "```\n",
        "\n",
        "Where `dimension` is an integer representing the horizontal and vertical components of the grid, and the method returns a grid with those dimensions.\n",
        "\n",
        "So calling the function with `6` results in:\n",
        "\n",
        "```\n",
        "******\n",
        "******\n",
        "******\n",
        "******\n",
        "******\n",
        "******\n",
        "```"
      ],
      "metadata": {
        "id": "6ClAI0MSmiMj"
      }
    },
    {
      "cell_type": "code",
      "source": [
        "def grid_generator(dimension: int) -> str:\n",
        "  pass"
      ],
      "metadata": {
        "id": "pdRaCoAmfZVo"
      },
      "execution_count": null,
      "outputs": []
    },
    {
      "cell_type": "code",
      "source": [
        "run_tests()"
      ],
      "metadata": {
        "id": "lE2ndrckGqz_"
      },
      "execution_count": null,
      "outputs": []
    },
    {
      "cell_type": "markdown",
      "source": [
        "## Taking turns\n",
        "\n",
        "Players choose an icon to represent them. For example, player `⍺` might choose an `X` and player `Ω` might choose an `O`.\n",
        "\n",
        "Players take turns placing their icons on the grid.\n",
        "\n",
        "```\n",
        "***\n",
        "*X*\n",
        "**O\n",
        "```\n",
        "\n",
        "For each turn, a player enters a set of coordinates, `(x, y)`, indicating where they would like to place their icon.\n",
        "\n",
        "### Exercise 1.2 - taking turns\n",
        "\n",
        "Write a function with the following signature:\n",
        "\n",
        "```\n",
        "def <your_method>(icon: str, state: str, x: int, y: int) -> str\n",
        "```\n",
        "\n",
        "Where `icon` is the character to place, `state` is the current game grid, and `x` and `y` are integers representing the column and row where we are placing the icon. The grid location at `(0, 0)` is in the upper-left corner.\n",
        "\n",
        "The function returns a string representing the updated grid, as in the following example:\n",
        "\n",
        "```\n",
        "  |  0123                              |  0123\n",
        "--+------                            --+------\n",
        "0 |  $**%                            0 |  $**%\n",
        "1 |  **%$   → f('%', state, 1, 3) →  1 |  **%$\n",
        "2 |  *$*%                            2 |  *$*%\n",
        "3 |  %*$$                            3 |  %%$$\n",
        "```"
      ],
      "metadata": {
        "id": "I_VREN8NMyZi"
      }
    },
    {
      "cell_type": "code",
      "source": [
        "def move(icon: str, state: str, x: int, y: int) -> str:\n",
        "  pass"
      ],
      "metadata": {
        "id": "sFwu63tUffEK"
      },
      "execution_count": null,
      "outputs": []
    },
    {
      "cell_type": "code",
      "source": [
        "run_tests()"
      ],
      "metadata": {
        "id": "DThURXZmHEPQ"
      },
      "execution_count": null,
      "outputs": []
    },
    {
      "cell_type": "markdown",
      "source": [
        "## Completing the game\n",
        "\n",
        "The game is in a finished state when one player's icon appears 3 times in a row - *horizontally*, or *vertically*:\n",
        "\n",
        "```\n",
        "| Horizontally  |  Vertically   |\n",
        "+---------------+---------------+\n",
        "|     XXX       |      **X      |\n",
        "|     ***       |      **X      |\n",
        "|     ***       |      **X      |\n",
        "+---------------+---------------+\n",
        "|     ***       |      *X*      |\n",
        "|     XXX       |      *X*      |\n",
        "|     ***       |      *X*      |\n",
        "+---------------+---------------+\n",
        "|     ***       |      X**      |\n",
        "|     ***       |      X**      |\n",
        "|     XXX       |      X**      |\n",
        "+---------------+---------------+\n",
        "```\n",
        "\n",
        "We will write functions to check both cases."
      ],
      "metadata": {
        "id": "vPtddeFH-vLj"
      }
    },
    {
      "cell_type": "markdown",
      "source": [
        "## Exercise 1.3 - rows\n",
        "\n",
        "Write a function which checks if the game is in a finished state due to there being a **horizontal row** of the same icon.\n",
        "\n",
        "The method should have the follow signature:\n",
        "\n",
        "```\n",
        "def <your_method>(state: str) -> bool\n",
        "```\n",
        "\n",
        "Where state is a `nxn` grid of characters with each row separated by a newline in the form of:\n",
        "\n",
        "```\n",
        "*X*\n",
        "XO*\n",
        "OX*\n",
        "```\n",
        "\n",
        "The method returns `False` if there are no complete rows, or `True` if there is a complete row.\n",
        "\n",
        "For example given the following grid:\n",
        "\n",
        "```\n",
        "  |  012\n",
        "--+-----\n",
        "0 |  *?*\n",
        "1 |  ?$*\n",
        "2 |  $$$\n",
        "```\n",
        "\n",
        "The function would return `True` - the `$` symbol completes the row with an index of `2`."
      ],
      "metadata": {
        "id": "0HW71NgV6uR9"
      }
    },
    {
      "cell_type": "code",
      "source": [
        "def is_the_game_complete_horizontally(state: str) -> bool:\n",
        "  pass"
      ],
      "metadata": {
        "id": "lsdVljGffvqL"
      },
      "execution_count": null,
      "outputs": []
    },
    {
      "cell_type": "code",
      "source": [
        "run_tests()"
      ],
      "metadata": {
        "id": "zgiB5HLZHmOW"
      },
      "execution_count": null,
      "outputs": []
    },
    {
      "cell_type": "markdown",
      "source": [
        "## Exercise 1.4 - columns\n",
        "\n",
        "Write a function which checks if the game is in a finished state due to there being a **vertical column** of the same icon.\n",
        "\n",
        "The method should have the follow signature:\n",
        "\n",
        "```\n",
        "def <your_method>(state: str) -> Optional[Tuple[int, str]]\n",
        "```\n",
        "\n",
        "Where `state` and the return type are the same as with checking for a horizontal row. For example given the following grid:\n",
        "\n",
        "```\n",
        "  |  012\n",
        "--+-----\n",
        "0 |  zz&\n",
        "1 |  *z&\n",
        "2 |  &z*\n",
        "```\n",
        "\n",
        "The method would return `True` because column `1` is populated by the `z` character."
      ],
      "metadata": {
        "id": "Ky--Gvan6xpj"
      }
    },
    {
      "cell_type": "code",
      "source": [
        "def is_the_game_complete_vertically(state: str) -> bool:\n",
        "  pass"
      ],
      "metadata": {
        "id": "Ay8IQz7zf1RU"
      },
      "execution_count": null,
      "outputs": []
    },
    {
      "cell_type": "code",
      "source": [
        "run_tests()"
      ],
      "metadata": {
        "id": "3X-cL3PqHnqs"
      },
      "execution_count": null,
      "outputs": []
    },
    {
      "cell_type": "markdown",
      "source": [
        "## Putting it together\n",
        "\n",
        "You should now have four methods:\n",
        "\n",
        "- creating a new grid `(dimension: int) -> str`\n",
        "- making a move `(state: str, icon: str, x: int, y: int) -> str`\n",
        "- checking for complete rows `(state: str) -> bool`\n",
        "- checking for complete columns `(state: str) -> bool`\n",
        "\n",
        "### Let's play some tic ✅\n",
        "\n",
        "Congratulations, you've done the hard work of filling in the code for a game of Tic! The code below will use your functions to connect it with everything needed to play the game.\n",
        "\n",
        "Pass these methods into the `play_tic` function and play a couple of rounds with your pair.\n",
        "\n",
        "Make sure to keep `tic_result`, we'll be using it later!"
      ],
      "metadata": {
        "id": "fo01rxRwm7BX"
      }
    },
    {
      "cell_type": "code",
      "source": [
        "from game import play_tic, tic_solution\n",
        "\n",
        "tic_result = play_tic(\n",
        "  _grid_generator=grid_generator,\n",
        "  _is_the_game_complete_horizontally=is_the_game_complete_horizontally,\n",
        "  _is_the_game_complete_vertically=is_the_game_complete_vertically,\n",
        "  _move=move,\n",
        ")"
      ],
      "metadata": {
        "id": "tsTLWaxugKVr"
      },
      "execution_count": null,
      "outputs": []
    },
    {
      "cell_type": "markdown",
      "source": [
        "# Tac\n",
        "\n",
        "When a game of Tic finishes due to a complete horizontal or vertical row, a game of Tac begins.\n",
        "\n",
        "Tac is a game played on a grid composed of a complete game of Tic. Players take turns choosing a row or a column which they want to fill.\n",
        "\n",
        "The first player in Tac is always the player who made the last move in Tic. So if player `Ω` finished Tic by completing a row, they will also play the first move in Tac."
      ],
      "metadata": {
        "id": "bZV8T03I6g9G"
      }
    },
    {
      "cell_type": "markdown",
      "source": [
        "\n",
        "## The rules of Tac\n",
        "\n",
        "- Here, 'line' refers to a row or a column. The rules are the same for both.\n",
        "- The line chosen must begin with the icon of the current player.\n",
        "- Starting with the first character, the icon of the current player is converted to a `*`.\n",
        "- `*`s are replaced with the icon of the other player.\n",
        "- When the line encounters the icon of the other player, the icon is replaced by the icon of the current player, and the line stops.\n",
        "\n",
        "For example, with this grid:\n",
        "\n",
        "```\n",
        "**%&\n",
        "%&**\n",
        "&&&&\n",
        "*%%%\n",
        "```\n",
        "\n",
        "When the player with the `&` icon chooses `column, 3`, the resulting grid would be:\n",
        "\n",
        "```\n",
        "**%*  | & → * (the player's icon becomes a *)\n",
        "%&*%  | * → % (*s become the other player's icon\n",
        "&&&*  | & → * (the player's icon becomes a *)\n",
        "*%%&  | % → & (the other player's icon becomes the current players icon)\n",
        "```"
      ],
      "metadata": {
        "id": "LM9H0V3ztXD7"
      }
    },
    {
      "cell_type": "markdown",
      "source": [
        "\n",
        "## Exercise 2.1 - validating moves\n",
        "\n",
        "A move is valid if the row or column chosen starts with the player's icon.\n",
        "\n",
        "Write a function which determines if a move is valid or not. The method should have this signature:\n",
        "\n",
        "```\n",
        "def <your_method>(\n",
        "  state:         str,\n",
        "  column_or_row: str,\n",
        "  icon:          str,\n",
        "  index:         int,\n",
        ") -> bool:\n",
        "```\n",
        "\n",
        "Where:\n",
        "- `state` is the current game grid\n",
        "- `column_or_row` is the character `c` for a column or `r` for a row\n",
        "- `icon` is the icon of the current player\n",
        "- `index` is an integer representing the column or row which the player has selected\n",
        "\n",
        "The method should return `True` if the move is valid, or `False` otherwise."
      ],
      "metadata": {
        "id": "8fJgARUz95sJ"
      }
    },
    {
      "cell_type": "code",
      "source": [
        "def your_move_validator(\n",
        "  state:         str,\n",
        "  column_or_row: str,\n",
        "  icon:          str,\n",
        "  index:         int,\n",
        ") -> bool:\n",
        "  pass"
      ],
      "metadata": {
        "id": "KKv2SH7KUDZI"
      },
      "execution_count": null,
      "outputs": []
    },
    {
      "cell_type": "code",
      "source": [
        "run_tests()"
      ],
      "metadata": {
        "id": "QPl1eZhIUCPi"
      },
      "execution_count": null,
      "outputs": []
    },
    {
      "cell_type": "markdown",
      "source": [
        "## Exercise 2.2 - making moves\n",
        "\n",
        "Write a function which makes a player move using the rules of Tac. Your method should have this signature:\n",
        "\n",
        "```\n",
        "def <your_method>(\n",
        "  state:             str,\n",
        "  column_or_row:     str,\n",
        "  player_icon:       str,\n",
        "  other_player_icon: str,\n",
        "  index:             int,\n",
        ") -> str\n",
        "```\n",
        "\n",
        "Where:\n",
        "- `state` is the current game grid\n",
        "- `column_or_row` is the character `c` for a column or `r` for a row\n",
        "- `player_icon` is the icon of the current player\n",
        "- `other_player_icon` is the icon of the non-current player\n",
        "- `index` is an integer representing the column or row which the player has selected\n",
        "\n",
        "The method returns a string representing the new state of the grid."
      ],
      "metadata": {
        "id": "1xHOq1Kb989Q"
      }
    },
    {
      "cell_type": "code",
      "source": [
        "def your_move_maker(\n",
        "  state:             str,\n",
        "  column_or_row:     str,\n",
        "  player_icon:       str,\n",
        "  other_player_icon: str,\n",
        "  index:             int,\n",
        ") -> bool:\n",
        "  pass"
      ],
      "metadata": {
        "id": "92jyVTDjUMUe"
      },
      "execution_count": null,
      "outputs": []
    },
    {
      "cell_type": "code",
      "source": [
        "run_tests()"
      ],
      "metadata": {
        "id": "vXW2Ew9aUNP1"
      },
      "execution_count": null,
      "outputs": []
    },
    {
      "cell_type": "markdown",
      "source": [
        "## Exercise 2.3 - completing a game\n",
        "\n",
        "A game of Tac is completed when the grid contains the icon of fewer than two players, or when the current player cannot make a move.\n",
        "\n",
        "The following grids are complete:\n",
        "\n",
        "```\n",
        "+--------------------+---------------+------------------+-----------------------+\n",
        "|        ***         |     *%*       |       ***        |          *^*          |\n",
        "|        ***         |     *%%       |       *&$        |          ^*W          |\n",
        "|        ***         |     %*%       |       *$&        |          ^WW          |\n",
        "+--------------------+---------------+------------------+-----------------------+\n",
        "| there are no icons | only one icon | no further moves | no moves for player W |\n",
        "+--------------------+---------------+------------------+-----------------------+\n",
        "```\n",
        "\n",
        "Write a function which determines if the game is complete.\n",
        "\n",
        "```\n",
        "def <your_method>(state: str, player_icon: str) -> bool\n",
        "```\n",
        "\n",
        "Where the arguments are a grid of Tac and the current player's icon, and the return value is `True` if the game is complete, and `False` if there are further valid moves for the current player."
      ],
      "metadata": {
        "id": "JaYWl3RztEJF"
      }
    },
    {
      "cell_type": "code",
      "source": [
        "def your_is_the_game_complete(state: str, player_icon: str) -> bool:\n",
        "  pass"
      ],
      "metadata": {
        "id": "CrQeT-TtVS1J"
      },
      "execution_count": null,
      "outputs": []
    },
    {
      "cell_type": "code",
      "source": [
        "run_tests()"
      ],
      "metadata": {
        "id": "LNu8rnGfVYWF"
      },
      "execution_count": null,
      "outputs": []
    },
    {
      "cell_type": "markdown",
      "source": [
        "## Putting it together\n",
        "\n",
        "You should now have 3 functions:\n",
        "\n",
        "- validating moves `(state: str, column_or_row: str, player_icon: str, index: int) -> bool`\n",
        "- making moves `(state: str, column_or_row: str, player_icon: str, other_player_icon: str, index: int) -> str`\n",
        "- checking if the game is complete `(state: str, player_icon: str) -> bool`\n",
        "\n",
        "### Play some Tac 🌮\n",
        "\n",
        "Play a few rounds of Tac with your pair. The first argument of `play_tac` is the result of finishing a game of Tic. Either use the one from before or pass in a new game."
      ],
      "metadata": {
        "id": "OCsaG_JPTHi9"
      }
    },
    {
      "cell_type": "code",
      "source": [
        "from game import tac_solution\n",
        "\n",
        "tac_result = play_tac(\n",
        "    tic_result=tic_result,\n",
        "    _is_the_game_complete=None,\n",
        "    _move=None,\n",
        "    _tac_turn_checker=None,\n",
        ")"
      ],
      "metadata": {
        "id": "i_rSK3lXU6wX"
      },
      "execution_count": null,
      "outputs": []
    },
    {
      "cell_type": "markdown",
      "source": [
        "# Oh no!\n",
        "\n"
      ],
      "metadata": {
        "id": "Qixsyo9-VO0M"
      }
    },
    {
      "cell_type": "markdown",
      "source": [
        "## Coming soon!"
      ],
      "metadata": {
        "id": "FmT3ejP6Vi8v"
      }
    }
  ]
}